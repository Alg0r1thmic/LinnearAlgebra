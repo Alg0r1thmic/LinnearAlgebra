{
 "cells": [
  {
   "cell_type": "markdown",
   "metadata": {},
   "source": [
    "\n"
   ]
  },
  {
   "cell_type": "markdown",
   "metadata": {},
   "source": [
    "# Factorizacion por metodo QR\n",
    "![title](Images/QR/Qr1.jpg)\n",
    "![title](Images/QR/Qr2.jpg)\n",
    "![title](Images/QR/Qr3.jpg)\n",
    "![title](Images/QR/Qr4.jpg)\n",
    "![title](Images/QR/Qr5.jpg)\n",
    "![title](Images/QR/Qr6.jpg)\n",
    "![title](Images/QR/Qr7.jpg)\n",
    "![title](Images/QR/Qr8.jpg)\n",
    "![title](Images/QR/Qr9.jpg)\n",
    "![title](Images/QR/Qr10.jpg)\n",
    "![title](Images/QR/Qr11.jpg)\n",
    "![title](Images/QR/Qr12.jpg)\n",
    "\n"
   ]
  },
  {
   "cell_type": "code",
   "execution_count": null,
   "metadata": {},
   "outputs": [],
   "source": [
    "function X=FactorizacionQR(A,b)\n",
    "    AA=A\n",
    "    sizeA=size(A);\n",
    "    sizeA=sizeA(1);\n",
    "    %hallar el vector u\n",
    "    X=A(:,1);\n",
    "    U=X+getSigno(X(1))*norm(X)*eye(size(X),1);\n",
    "    H=eye(sizeA)-(2/(U'*U))*(U*U');\n",
    "    A=H*A;\n",
    "    Q=H\n",
    "    for i=2:sizeA-1\n",
    "        X=A(i:sizeA,i)\n",
    "        U=X+getSigno(X(1))*norm(X)*eye(sizeA+1-i,1);\n",
    "        H=eye(sizeA-i+1)-(2/(U'*U))*(U*U');\n",
    "        GIdentidad=[eye(i-1,sizeA);zeros(sizeA-i+1,i-1) H];\n",
    "        Q=Q*GIdentidad;\n",
    "        A=GIdentidad*A;\n",
    "    end\n",
    "    R=A;\n",
    "    Q;\n",
    "    Q*R\n",
    "    AA;\n",
    "    b;\n",
    "    Y=Q'*b;\n",
    "    RFinal=ELinealEscalonadaS(R,Y);\n",
    "    \n",
    "    X=RFinal;\n",
    "end\n",
    "function R=ELinealEscalonadaS(A,B)\n",
    "    %A=input(\"ingrese una matriz escalonada superior\")\n",
    "    %B=input(\"ingrese un vector\")\n",
    "    X=zeros(size(B),1)\n",
    "    %n=size(A)\n",
    "    nv=size(B);\n",
    "    nv=nv(1);\n",
    "    (nv)=B(nv)/A(nv,nv);\n",
    "    X(size(A))=nv ;\n",
    "    sumatoria=0;                                                                                \n",
    "    for n=size(A)-1:-1:1\n",
    "        for j=n+1:size(A)    \n",
    "            sumatoria=A(n,j)*X(j)+sumatoria;\n",
    "        end\n",
    "        X(n)=(1/A(n,n))*(B(n)-sumatoria);\n",
    "        sumatoria=0;\n",
    "    end\n",
    "    R=A*X;\n",
    "end\n",
    "\n",
    "\n",
    "function x=getSigno(a)\n",
    "    if(a==0)\n",
    "        x=1;\n",
    "    elseif(a<0)\n",
    "        x=-1;\n",
    "    else\n",
    "        x=1;\n",
    "    endif\n",
    "end\n",
    "function R=getIdependenciaLineal(A)\n",
    "    b=zeros(size(A),1)\n",
    "    R=FactorizacionQR(A,b)\n",
    "    for i=0:size(R)\n",
    "        if(R(i)==0)\n",
    "            R=0\n",
    "        else\n",
    "            R=1\n",
    "        endif"
   ]
  },
  {
   "cell_type": "markdown",
   "metadata": {},
   "source": [
    "## prueba del algoritmo de factorizacion QR"
   ]
  },
  {
   "cell_type": "code",
   "execution_count": 62,
   "metadata": {},
   "outputs": [
    {
     "name": "stdout",
     "output_type": "stream",
     "text": [
      "AA =\n",
      "\n",
      "   1   2   3\n",
      "   4   5   6\n",
      "   2   1   4\n",
      "\n",
      "Q =\n",
      "\n",
      "  -0.21822  -0.87287  -0.43644\n",
      "  -0.87287   0.37457  -0.31271\n",
      "  -0.43644  -0.31271   0.84364\n",
      "\n",
      "X =\n",
      "\n",
      "  -0.18558\n",
      "  -1.59279\n",
      "\n",
      "ans =\n",
      "\n",
      "   1.0000   2.0000   3.0000\n",
      "   4.0000   5.0000   6.0000\n",
      "   2.0000   1.0000   4.0000\n",
      "\n",
      "Y =\n",
      "\n",
      "  -3.2733\n",
      "  -1.3363\n",
      "   1.2247\n",
      "\n",
      "X =\n",
      "\n",
      "   0\n",
      "   0\n",
      "   0\n",
      "\n",
      "RFinal =\n",
      "\n",
      "  -3.2733\n",
      "  -1.3363\n",
      "   1.2247\n",
      "\n",
      "ans =\n",
      "\n",
      "   -2.2716\n",
      "  -12.4261\n",
      "   -2.9839\n",
      "\n",
      "ans =\n",
      "\n",
      "  -0.18558\n",
      "  -1.59279\n",
      "\n"
     ]
    }
   ],
   "source": [
    "A=[1 2 3;4 5 6;2 1 4];\n",
    "b=[1 ;2; 3];\n",
    "format\n",
    "FactorizacionQR(A,b)"
   ]
  },
  {
   "cell_type": "markdown",
   "metadata": {},
   "source": [
    "# Metodo potencia para hallar el autovalor dominante\n",
    "\n",
    "![title](Images/MetodoPotencia/potencia.jpg)\n",
    "\n",
    "\n",
    "![title](Images/MetodoPotencia/potencia1.jpg)\n",
    "![title](Images/MetodoPotencia/potencia2.jpg)\n",
    "![title](Images/MetodoPotencia/potencia3.jpg)\n",
    "![title](Images/MetodoPotencia/potencia4.jpg)\n"
   ]
  },
  {
   "cell_type": "code",
   "execution_count": null,
   "metadata": {},
   "outputs": [],
   "source": []
  },
  {
   "cell_type": "code",
   "execution_count": null,
   "metadata": {},
   "outputs": [],
   "source": []
  },
  {
   "cell_type": "markdown",
   "metadata": {},
   "source": [
    "## implementacion del metodo de potencia\n"
   ]
  },
  {
   "cell_type": "code",
   "execution_count": null,
   "metadata": {},
   "outputs": [],
   "source": [
    "\n",
    "function [x,y]=MetodoPotencia(A,b,m)\n",
    "    sizeA=size(A);%tamaño de la matriz\n",
    "    %autoVectores=A*b\n",
    "    MatrizDeResultado=zeros(sizeA*m,3);%aqui es donde se guardaran los resultados \n",
    "    autoValores=zeros(sizeA,1);\n",
    "    incrementar=1;\n",
    "    autoVectores=A*b;\n",
    "    for i=1:m\n",
    "        autoVectores=A*b;\n",
    "        for j=1:sizeA\n",
    "            autoValores(j)=autoVectores(j)/b(j);\n",
    "            MatrizDeResultado(incrementar,1)=i;\n",
    "            MatrizDeResultado(incrementar,2)=autoVectores(j);\n",
    "            MatrizDeResultado(incrementar,3)=autoValores(j);\n",
    "            incrementar+=1;\n",
    "        end\n",
    "        b=autoVectores;\n",
    "    end\n",
    "    %hallar el autovalor dominante\n",
    "    fAutovalorD=max(autoValores);\n",
    "    fAutovalorD1=min(autoValores);\n",
    "    autoValorFinal=getMayor(fAutovalorD,fAutovalorD1);\n",
    "    %dividir los autovalores por el maximo de ellos\n",
    "    autoVectorFinal=autoVectores;\n",
    "    fAutoVectorD=max(autoVectores);\n",
    "    fAutoVectorD1=min(autoVectores);\n",
    "    maximo=getMayor(fAutoVectorD,fAutoVectorD1);\n",
    "    for i=1:sizeA\n",
    "        autoVectorFinal(i)=autoVectores(i)/maximo;\n",
    "    end\n",
    "    x=autoValorFinal;\n",
    "    y=autoVectorFinal;\n",
    "end\n",
    "\n",
    "function x=getMayor(a,b)\n",
    "    if(abs(a)>abs(b))\n",
    "        x=a;\n",
    "    else\n",
    "        x=b;\n",
    "    endif\n",
    "end\n"
   ]
  },
  {
   "cell_type": "markdown",
   "metadata": {},
   "source": [
    "probar el algoritmo"
   ]
  },
  {
   "cell_type": "code",
   "execution_count": null,
   "metadata": {},
   "outputs": [],
   "source": [
    "format rat\n",
    "A=[-1 2 0 3;2 1 -1 2;0 -1 4 1;3 2 1 3]\n",
    "b=[1;1;1;1]\n",
    "[x,y]=MetodoPotencia(A,b,20)\n"
   ]
  },
  {
   "cell_type": "markdown",
   "metadata": {},
   "source": [
    "# Metodo Deflacion\n",
    "\n",
    "![title](Images/deflacion/deflacion1.jpg)\n",
    "\n",
    "Algunos ejemplos\n",
    "![title](Images/deflacion/deflacion2.jpg)\n",
    "![title](Images/deflacion/deflacion3.jpg)\n",
    "![title](Images/deflacion/deflacion4.jpg)\n",
    "\n"
   ]
  },
  {
   "cell_type": "code",
   "execution_count": null,
   "metadata": {},
   "outputs": [],
   "source": [
    "function x=MetodoDeflaccion(A,b,m)\n",
    "    sizeA=size(A);\n",
    "    autoValorFinal=zeros(sizeA,1);\n",
    "    D=A;\n",
    "    norma=0;\n",
    "    [autoValor,autoVector]=MetodoPotencia(A,b,m);\n",
    "    for i=1:sizeA\n",
    "        autoValorFinal(i)=autoValor;\n",
    "        norma=norm(autoVector);\n",
    "        for j=1:sizeA\n",
    "            autoVector(j)=autoVector(j)/norma;\n",
    "        end\n",
    "        D=A-(autoValor*(autoVector*autoVector'));\n",
    "        [autoValor,autoVector]=MetodoPotencia(D,b,m);\n",
    "        A=D;\n",
    "    end\n",
    "    x=autoValorFinal;\n",
    "end"
   ]
  },
  {
   "cell_type": "code",
   "execution_count": null,
   "metadata": {},
   "outputs": [],
   "source": [
    "format \n",
    "A=[-1 2 0 3;2 1 -1 2;0 -1 4 1;3 2 1 3]\n",
    "b=[1;1;1;1]\n",
    "x=MetodoDeflaccion(A,b,20)"
   ]
  }
 ],
 "metadata": {
  "kernelspec": {
   "display_name": "Octave",
   "language": "octave",
   "name": "octave"
  },
  "language_info": {
   "file_extension": ".m",
   "help_links": [
    {
     "text": "GNU Octave",
     "url": "https://www.gnu.org/software/octave/support.html"
    },
    {
     "text": "Octave Kernel",
     "url": "https://github.com/Calysto/octave_kernel"
    },
    {
     "text": "MetaKernel Magics",
     "url": "https://github.com/calysto/metakernel/blob/master/metakernel/magics/README.md"
    }
   ],
   "mimetype": "text/x-octave",
   "name": "octave",
   "version": "4.2.2"
  }
 },
 "nbformat": 4,
 "nbformat_minor": 2
}
