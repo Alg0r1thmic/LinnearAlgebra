{
 "cells": [
  {
   "cell_type": "markdown",
   "metadata": {},
   "source": [
    "# Metodo potencia para hallar el autovalor dominante\n",
    "\n",
    "![title](Images/MetodoPotencia/potencia.jpg)\n",
    "\n",
    "\n",
    "![title](Images/MetodoPotencia/potencia1.jpg)\n",
    "![title](Images/MetodoPotencia/potencia2.jpg)\n",
    "![title](Images/MetodoPotencia/potencia3.jpg)\n",
    "![title](Images/MetodoPotencia/potencia4.jpg)"
   ]
  },
  {
   "cell_type": "markdown",
   "metadata": {},
   "source": [
    "## implementacion del metodo de potencia\n"
   ]
  },
  {
   "cell_type": "code",
   "execution_count": null,
   "metadata": {},
   "outputs": [],
   "source": [
    "\n",
    "function [x,y]=MetodoPotencia(A,b,m)\n",
    "    sizeA=size(A);%tamaño de la matriz\n",
    "    %autoVectores=A*b\n",
    "    MatrizDeResultado=zeros(sizeA*m,3);%aqui es donde se guardaran los resultados \n",
    "    autoValores=zeros(sizeA,1);\n",
    "    incrementar=1;\n",
    "    autoVectores=A*b;\n",
    "    for i=1:m\n",
    "        autoVectores=A*b;\n",
    "        for j=1:sizeA\n",
    "            autoValores(j)=autoVectores(j)/b(j);\n",
    "            MatrizDeResultado(incrementar,1)=i;\n",
    "            MatrizDeResultado(incrementar,2)=autoVectores(j);\n",
    "            MatrizDeResultado(incrementar,3)=autoValores(j);\n",
    "            incrementar+=1;\n",
    "        end\n",
    "        b=autoVectores;\n",
    "    end\n",
    "    %hallar el autovalor dominante\n",
    "    fAutovalorD=max(autoValores);\n",
    "    fAutovalorD1=min(autoValores);\n",
    "    autoValorFinal=getMayor(fAutovalorD,fAutovalorD1);\n",
    "    %dividir los autovalores por el maximo de ellos\n",
    "    autoVectorFinal=autoVectores;\n",
    "    fAutoVectorD=max(autoVectores);\n",
    "    fAutoVectorD1=min(autoVectores);\n",
    "    maximo=getMayor(fAutoVectorD,fAutoVectorD1);\n",
    "    for i=1:sizeA\n",
    "        autoVectorFinal(i)=autoVectores(i)/maximo;\n",
    "    end\n",
    "    x=autoValorFinal;\n",
    "    y=autoVectorFinal;\n",
    "end\n",
    "\n",
    "function x=getMayor(a,b)\n",
    "    if(abs(a)>abs(b))\n",
    "        x=a;\n",
    "    else\n",
    "        x=b;\n",
    "    endif\n",
    "end\n"
   ]
  },
  {
   "cell_type": "markdown",
   "metadata": {},
   "source": [
    "probar el algoritmo"
   ]
  },
  {
   "cell_type": "code",
   "execution_count": null,
   "metadata": {},
   "outputs": [],
   "source": [
    "format rat\n",
    "A=[-1 2 0 3;2 1 -1 2;0 -1 4 1;3 2 1 3]\n",
    "b=[1;1;1;1]\n",
    "[x,y]=MetodoPotencia(A,b,20)\n"
   ]
  },
  {
   "cell_type": "markdown",
   "metadata": {},
   "source": [
    "# Metodo Deflacion\n",
    "\n",
    "![title](Images/deflacion/deflacion1.jpg)\n",
    "\n",
    "Algunos ejemplos\n",
    "![title](Images/deflacion/deflacion2.jpg)\n",
    "![title](Images/deflacion/deflacion3.jpg)\n",
    "![title](Images/deflacion/deflacion4.jpg)\n",
    "\n"
   ]
  },
  {
   "cell_type": "code",
   "execution_count": null,
   "metadata": {},
   "outputs": [],
   "source": [
    "function x=MetodoDeflaccion(A,b,m)\n",
    "    sizeA=size(A);\n",
    "    autoValorFinal=zeros(sizeA,1);\n",
    "    D=A;\n",
    "    norma=0;\n",
    "    [autoValor,autoVector]=MetodoPotencia(A,b,m);\n",
    "    for i=1:sizeA\n",
    "        autoValorFinal(i)=autoValor;\n",
    "        norma=norm(autoVector);\n",
    "        for j=1:sizeA\n",
    "            autoVector(j)=autoVector(j)/norma;\n",
    "        end\n",
    "        D=A-(autoValor*(autoVector*autoVector'));\n",
    "        [autoValor,autoVector]=MetodoPotencia(D,b,m);\n",
    "        A=D;\n",
    "    end\n",
    "    x=autoValorFinal;\n",
    "end"
   ]
  },
  {
   "cell_type": "code",
   "execution_count": null,
   "metadata": {},
   "outputs": [],
   "source": [
    "format \n",
    "A=[-1 2 0 3;2 1 -1 2;0 -1 4 1;3 2 1 3]\n",
    "b=[1;1;1;1]\n",
    "x=MetodoDeflaccion(A,b,20)"
   ]
  }
 ],
 "metadata": {
  "kernelspec": {
   "display_name": "Octave",
   "language": "octave",
   "name": "octave"
  },
  "language_info": {
   "file_extension": ".m",
   "help_links": [
    {
     "text": "GNU Octave",
     "url": "https://www.gnu.org/software/octave/support.html"
    },
    {
     "text": "Octave Kernel",
     "url": "https://github.com/Calysto/octave_kernel"
    },
    {
     "text": "MetaKernel Magics",
     "url": "https://github.com/calysto/metakernel/blob/master/metakernel/magics/README.md"
    }
   ],
   "mimetype": "text/x-octave",
   "name": "octave",
   "version": "4.2.2"
  }
 },
 "nbformat": 4,
 "nbformat_minor": 2
}
