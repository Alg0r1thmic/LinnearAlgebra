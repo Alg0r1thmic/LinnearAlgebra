{
 "cells": [
  {
   "cell_type": "markdown",
   "metadata": {},
   "source": [
    "# Circulant Matrices\n",
    "\n",
    "In this lecture, I want to introduce you to a new type of matrix: **circulant** matrices.  Like Hermitian matrices, they have orthonormal eigenvectors, but unlike Hermitian matrices we know *exactly* what their eigenvectors are!  Moreover, their eigenvectors are closely related to the famous Fourier transform and Fourier series.  Even more importantly, it turns out that circulant matrices and the eigenvectors lend themselves to **incredibly efficient** algorithms called FFTs, that play a central role in much of computational science and engineering.\n",
    "\n",
    "![a ring of springs](https://github.com/stevengj/1806-spring17/raw/master/lectures/cyclic-springs.png) \n",
    "\n",
    "Consider a system of $n$ identical masses $m$ connected by springs $k$, sliding around a *circle* without friction.   Similar to lecture 26, the vector $\\vec{s}$ of displacements satifies $m\\frac{d^2\\vec{s}}{dt^2} = -kA\\vec{s}$, where $A$ is the $n \\times n$ matrix:\n",
    "\n",
    "$$\n",
    "A = \\begin{pmatrix} 2 & -1 & & & & & -1 \\\\\n",
    "                   -1 & 2 &-1& & & & \\\\\n",
    "                      &-1 &2&-1& & & \\\\\n",
    "                      &   &\\ddots&\\ddots&\\ddots& & \\\\ \n",
    "                   & & &-1 & 2  &-1 & \\\\\n",
    "                   & & & & -1 &2 & -1 \\\\\n",
    "                   -1 &   &  &  & &-1 &2\n",
    "    \\end{pmatrix}\n",
    "$$\n",
    "\n",
    "(This matrix is real-symmetric and, less obviously, positive semidefinite.  So, it should have orthogonal eigenvectors and real eigenvalues $\\lambda \\ge 0$.)\n",
    "\n",
    "For example, if $n = 7$:"
   ]
  },
  {
   "cell_type": "code",
   "execution_count": 8,
   "metadata": {},
   "outputs": [
    {
     "name": "stdout",
     "output_type": "stream",
     "text": [
      "A =\n",
      "\n",
      "   2  -1   0   0   0   0  -1\n",
      "  -1   2  -1   0   0   0   0\n",
      "   0  -1   2  -1   0   0   0\n",
      "   0   0  -1   2  -1   0   0\n",
      "   0   0   0  -1   2  -1   0\n",
      "   0   0   0   0  -1   2  -1\n",
      "  -1   0   0   0   0  -1   2\n",
      "\n"
     ]
    }
   ],
   "source": [
    "A = [ 2 -1  0  0  0  0 -1\n",
    "     -1  2 -1  0  0  0  0\n",
    "      0 -1  2 -1  0  0  0\n",
    "      0  0 -1  2 -1  0  0\n",
    "      0  0  0 -1  2 -1  0\n",
    "      0  0  0  0 -1  2 -1\n",
    "     -1  0  0  0  0 -1  2]"
   ]
  },
  {
   "cell_type": "markdown",
   "metadata": {},
   "source": [
    "This matrix has a very special pattern: *every row is the same as the previous row, just shifted to the right by 1* (wrapping around \"cyclically\" at the edges).  That is, each row is a [circular shift](https://en.wikipedia.org/wiki/Circular_shift) of the first row.\n",
    "\n",
    "This is called a [circulant matrix](https://en.wikipedia.org/wiki/Circulant_matrix).  A $4\\times 4$ circulant matrix looks like:\n",
    "\n",
    "$$\n",
    "C = \\begin{pmatrix}\n",
    "c_0 & c_1 & c_2 & c_3 \\\\\n",
    "c_3 & c_0 & c_1 & c_2 \\\\\n",
    "c_2 & c_3 & c_0 & c_1 \\\\\n",
    "c_1 & c_2 & c_3 & c_0\n",
    "\\end{pmatrix}\n",
    "$$\n",
    "\n",
    "The general form of an $n \\times n$ circulant matrix $C$ is:\n",
    "\n",
    "$$\n",
    "C = \\begin{pmatrix}\n",
    "c_0 & c_1 & c_2 & \\cdots & c_{n-1} \\\\\n",
    "c_{n-1} & c_0 & c_1 & c_2 & \\cdots \\\\\n",
    "c_{n-2} & c_{n-1} & c_0 & \\cdots \\\\\n",
    "\\ddots & \\ddots & \\ddots & \\ddots & \\ddots \\\\\n",
    "c_1 & c_2 & \\cdots & c_{n-1} & c_0 \n",
    "\\end{pmatrix}\n",
    "$$\n",
    "\n",
    "When working with circulant matrix, it is convenient to number entries from $0$ to $n-1$ rather than from $1$ to $n$!"
   ]
  },
  {
   "cell_type": "markdown",
   "metadata": {},
   "source": [
    "## Multiplying by circulant matrices: Convolutions\n",
    "\n",
    "Suppose we have an $n \\times n$ circulant matrix $C$ that we want to multiply by a vector $x = (x_0, x_1, \\ldots, x_n)$.   It turns out that the result is a very special kind of operation:\n",
    "\n",
    "$$\n",
    "y = Cx = \\begin{pmatrix}\n",
    "c_0 & c_1 & c_2 & \\cdots & c_{n-1} \\\\\n",
    "c_{n-1} & c_0 & c_1 & c_2 & \\cdots \\\\\n",
    "c_{n-2} & c_{n-1} & c_0 & \\cdots \\\\\n",
    "\\ddots & \\ddots & \\ddots & \\ddots & \\ddots \\\\\n",
    "c_1 & c_2 & \\cdots & c_{n-1} & c_0 \n",
    "\\end{pmatrix} \\begin{pmatrix} x_0 \\\\ x_1 \\\\ \\vdots \\\\ x_{n-1} \\end{pmatrix}\n",
    "$$\n",
    "\n",
    "Let's write down a formula for the entries of $y$:\n",
    "\n",
    "$$\n",
    "y_0 = c_0 x_0 + c_1 x_1 + c_2 x_2 + \\cdots \\\\\n",
    "y_1 = c_{n-1} x_0 + c_0 x_1 + c_1 x_2 + \\cdots \\\\\n",
    "y_2 = c_{n-2} x_0 + c_{n-1} x_1 + c_0 x_2 + \\cdots\n",
    "$$\n",
    "\n",
    "Can you see the pattern?  This is one of those cases that is actually clearer if we write out the summation:\n",
    "\n",
    "$$\n",
    "y_k = \\sum_{j=0}^{n-1} c_{j-k} x_j\n",
    "$$\n",
    "\n",
    "There is a slight problem with this formula: the subscript $j-k$ can be $< 0$!  No problem: we just *interpret the subscript periodically*, i.e. we let $c_{-1} = c_{n-1}$, $c_{-2} = c_{n-2}$, and so on.  Equivalently, we define $c_{j\\pm n} = c_j$.   (We could say that the subscripts are [modulo n](https://en.wikipedia.org/wiki/Modular_arithmetic).)\n",
    "\n",
    "Multiplying by a circulant matrix is equivalent to a very famous operation called a [circular convolution](https://en.wikipedia.org/wiki/Circular_convolution).  Convolution operations, and hence circulant matrices, show up in lots of applications: **digital signal processing**, **image compression**, **physics/engineering simulations**, **number theory** and **cryptography**, and so on."
   ]
  },
  {
   "cell_type": "markdown",
   "metadata": {},
   "source": [
    "# Eigenvectors of circulant matrices\n",
    "\n",
    "One amazing property of circulant matrices is that **the eigenvectors are always the same**.  The eigen-*values* are different for each C, but since we know the eigenvectors they are easy to diagonalize.\n",
    "\n",
    "We can actually see one eigenvector right away.  Let's call it $x^{(0)}$:\n",
    "\n",
    "$$\n",
    "x^{(0)} = \\begin{pmatrix} 1 \\\\ 1 \\\\ 1 \\\\ \\vdots \\\\ 1 \\end{pmatrix}\n",
    "$$\n",
    "\n",
    "This is an eigenvector because multiplying $C x^{(0)}$ **simply sums each row of C**.  But since each row of C contains the same entries (just in a different order), the sum is the same:\n",
    "\n",
    "$$\n",
    "C x^{(0)} = \\underbrace{(c_0 + c_1 + \\cdots + c_{n-1})}_{\\lambda_0} x^{(0)}\n",
    "$$\n",
    "\n",
    "Thus, one of the eigenvalues $\\lambda_0$ of $C$ is simply the sum of the row entries.\n",
    "\n",
    "For our example matrix $A$ above, this sum is $-1 + 2 + -1 = 0$, so $A$ is a *singular* matrix with an eigenvalue zero."
   ]
  },
  {
   "cell_type": "code",
   "execution_count": 9,
   "metadata": {
    "scrolled": true
   },
   "outputs": [
    {
     "name": "stdout",
     "output_type": "stream",
     "text": [
      "ans =\n",
      "\n",
      "  -9.4114e-16\n",
      "   7.5302e-01\n",
      "   7.5302e-01\n",
      "   2.4450e+00\n",
      "   2.4450e+00\n",
      "   3.8019e+00\n",
      "   3.8019e+00\n",
      "\n"
     ]
    }
   ],
   "source": [
    "eig(A)"
   ]
  },
  {
   "cell_type": "code",
   "execution_count": 10,
   "metadata": {},
   "outputs": [],
   "source": [
    "function C = Circulant1(a)\n",
    "    % C = Circulant1(a) is a circulant matrix with first row equal to a.\n",
    "    n = length(a);\n",
    "    C = zeros(n,n);\n",
    "    for i=1:n\n",
    "        for j=1:n\n",
    "        C(i,j) = a(rem(n-i+j,n)+1);\n",
    "        end\n",
    "    end\n",
    "end\n",
    "function C = Circulant2(a)\n",
    "    % C = Circulant2(a) is a circulant matrix with first row equal to a.\n",
    "    n = length(a);\n",
    "    C = zeros(n,n);\n",
    "    C(1,:) = a;\n",
    "    for i=2:n\n",
    "        C(i,:) = [ C(i-1,n) C(i-1,1:n-1) ];\n",
    "    end\n",
    "end"
   ]
  },
  {
   "cell_type": "code",
   "execution_count": 11,
   "metadata": {},
   "outputs": [
    {
     "name": "stdout",
     "output_type": "stream",
     "text": [
      "i =  0 + 1i\n",
      "F =\n",
      "\n",
      "   1 + 0i   1 + 0i   1 + 0i   1 + 0i\n",
      "   1 + 0i  -0 - 1i  -1 + 0i   0 + 1i\n",
      "   1 + 0i  -1 + 0i   1 + 0i  -1 + 0i\n",
      "   1 + 0i   0 + 1i  -1 + 0i  -0 - 1i\n",
      "\n"
     ]
    }
   ],
   "source": [
    "A=[1 2 3 ;3 4 5;2 3 4];\n",
    "\n",
    "i = sqrt(-1)\n",
    "F = [1 1 1 1; 1 -i -1 i; 1 -1 1 -1; 1 i -1 -i]"
   ]
  },
  {
   "cell_type": "code",
   "execution_count": 12,
   "metadata": {},
   "outputs": [],
   "source": [
    "function F=f(n)\n",
    "    F = ones(n,n);\n",
    "    F(:,2) = exp(-2*pi*sqrt(-1)/n).^(0:n-1)'';\n",
    "    for k=3:n\n",
    "        F(:,k) = F(:,2).*F(:,k-1);\n",
    "    end\n",
    "end"
   ]
  },
  {
   "cell_type": "code",
   "execution_count": 18,
   "metadata": {},
   "outputs": [
    {
     "name": "stdout",
     "output_type": "stream",
     "text": [
      "F =\n",
      "\n",
      "          1 +         0i          1 -         0i          1 -         0i          1 -         0i\n",
      "          1 +         0i          0 -         1i         -1 -         0i          0 +         1i\n",
      "          1 +         0i         -1 -         0i          1 +         0i         -1 -         0i\n",
      "          1 +         0i          0 +         1i         -1 -         0i          0 -         1i\n",
      "\n"
     ]
    }
   ],
   "source": [
    "format rat\n",
    "F=f(4);\n",
    "F"
   ]
  },
  {
   "cell_type": "code",
   "execution_count": 2,
   "metadata": {},
   "outputs": [
    {
     "name": "stdout",
     "output_type": "stream",
     "text": [
      "parse error:\n",
      "\n",
      "  syntax error\n",
      "\n",
      ">>>         z = rem((k-1)*(0:n-1)’,n )+1;\n",
      "                                 ^\n",
      "\n",
      "error: 'y' undefined near line 1 column 13\n",
      "parse error:\n",
      "\n",
      "  syntax error\n",
      "\n",
      ">>>     end\n",
      "          ^\n",
      "\n",
      "parse error:\n",
      "\n",
      "  syntax error\n",
      "\n",
      ">>> end\n",
      "      ^\n",
      "\n"
     ]
    }
   ],
   "source": [
    "function y = DFT(x)\n",
    "    % y = DFT(x)\n",
    "    % y is the discrete Fourier transform of a column n-vector x.\n",
    "    n = length(x);\n",
    "    y = x(1)*ones(n,1);\n",
    "    if n > 1\n",
    "    v = exp(-2*pi*sqrt(-1)/n).^(0:n-1)';\n",
    "    for k=2:n\n",
    "        z = rem((k-1)*(0:n-1)’,n )+1;\n",
    "        y = y + v(z)*x(k);\n",
    "    end\n",
    "end"
   ]
  }
 ],
 "metadata": {
  "kernelspec": {
   "display_name": "Octave",
   "language": "octave",
   "name": "octave"
  },
  "language_info": {
   "file_extension": ".m",
   "help_links": [
    {
     "text": "GNU Octave",
     "url": "https://www.gnu.org/software/octave/support.html"
    },
    {
     "text": "Octave Kernel",
     "url": "https://github.com/Calysto/octave_kernel"
    },
    {
     "text": "MetaKernel Magics",
     "url": "https://github.com/calysto/metakernel/blob/master/metakernel/magics/README.md"
    }
   ],
   "mimetype": "text/x-octave",
   "name": "octave",
   "version": "4.2.2"
  }
 },
 "nbformat": 4,
 "nbformat_minor": 2
}
